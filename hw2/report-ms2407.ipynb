{
 "cells": [
  {
   "cell_type": "markdown",
   "metadata": {},
   "source": [
    "# HW2 Report"
   ]
  },
  {
   "cell_type": "markdown",
   "metadata": {},
   "source": [
    "Madhumitha Sivaraj (ms2407)"
   ]
  },
  {
   "cell_type": "markdown",
   "metadata": {},
   "source": [
    "## 1. Result Report of Task 3.3: "
   ]
  },
  {
   "cell_type": "markdown",
   "metadata": {},
   "source": [
    "### Loss Curve\n",
    "![](fig2.png)"
   ]
  },
  {
   "cell_type": "markdown",
   "metadata": {},
   "source": [
    "### Prediction Accuracy"
   ]
  },
  {
   "cell_type": "markdown",
   "metadata": {},
   "source": [
    "Prediction Acc.: 0.7742"
   ]
  },
  {
   "cell_type": "markdown",
   "metadata": {},
   "source": [
    "### Prediction Samples"
   ]
  },
  {
   "cell_type": "markdown",
   "metadata": {},
   "source": [
    "```\n",
    "pred:\t ['je', 'suis', 'chez', 'moi', ',', 'tom', '.', '.']\n",
    "\n",
    "tgt:\t ['je', 'suis', 'chez', 'moi', ',', 'tom', '.', 'eos', 'pad']\n",
    "\n",
    "pred:\t ['vous', 'unk', '.', '.', '.', '.']\n",
    "\n",
    "tgt:\t ['tu', 'unk', '.', 'eos', 'pad', 'pad', 'pad', 'pad', 'pad']\n",
    "\n",
    "pred:\t ['va', 'au', 'unk', '!', 'unk', '!', '!']\n",
    "\n",
    "tgt:\t ['unk', '!', 'eos', 'pad', 'pad', 'pad', 'pad', 'pad', 'pad']\n",
    "\n",
    "pred:\t ['unk', '!', '.', '.', '.']\n",
    "\n",
    "tgt:\t ['unk', '.', 'eos', 'pad', 'pad', 'pad', 'pad', 'pad', 'pad']\n",
    "\n",
    "pred:\t ['je', 'suis', 'unk', '.', '.', '.']\n",
    "\n",
    "tgt:\t ['je', 'suis', 'unk', '.', 'eos', 'pad', 'pad', 'pad', 'pad']\n",
    "```"
   ]
  },
  {
   "cell_type": "markdown",
   "metadata": {},
   "source": [
    "## 2. Result Report of Task 4: Transformer"
   ]
  },
  {
   "cell_type": "markdown",
   "metadata": {},
   "source": [
    "### Loss Curve\n",
    "![](task4.png)"
   ]
  },
  {
   "cell_type": "markdown",
   "metadata": {},
   "source": [
    "### Prediction Accuracy"
   ]
  },
  {
   "cell_type": "markdown",
   "metadata": {},
   "source": [
    "Prediction Acc.: 0.7699"
   ]
  },
  {
   "cell_type": "markdown",
   "metadata": {},
   "source": [
    "### Prediction Samples"
   ]
  },
  {
   "cell_type": "markdown",
   "metadata": {},
   "source": [
    "```\n",
    "pred:\t ['elle', 'est', 'unk', '.', '.', '.']\n",
    "\n",
    "tgt:\t [\"c'est\", 'mort', '.', 'eos', 'pad', 'pad', 'pad', 'pad', 'pad']\n",
    "\n",
    "pred:\t ['je', 'te', 'déteste', '.', '.', '.']\n",
    "\n",
    "tgt:\t ['je', 'te', 'unk', '.', 'eos', 'pad', 'pad', 'pad', 'pad']\n",
    "\n",
    "pred:\t ['unk', 'marcher', '?', '?', '?']\n",
    "\n",
    "tgt:\t ['unk', 'nous', 'unk', '?', 'eos', 'pad', 'pad', 'pad', 'pad']\n",
    "\n",
    "pred:\t ['je', 'vous', 'prie', 'de', 'partir', '.', '.']\n",
    "\n",
    "tgt:\t ['pars', ',', 'je', 'te', 'prie', '.', 'eos', 'pad', 'pad']\n",
    "\n",
    "pred:\t ['quelle', 'unk', '!', '!', '!', '!']\n",
    "\n",
    "tgt:\t ['quelle', 'unk', '!', 'eos', 'pad', 'pad', 'pad', 'pad', 'pad']\n",
    "```"
   ]
  }
 ],
 "metadata": {
  "kernelspec": {
   "display_name": "Python 3",
   "language": "python",
   "name": "python3"
  },
  "language_info": {
   "codemirror_mode": {
    "name": "ipython",
    "version": 3
   },
   "file_extension": ".py",
   "mimetype": "text/x-python",
   "name": "python",
   "nbconvert_exporter": "python",
   "pygments_lexer": "ipython3",
   "version": "3.7.6"
  }
 },
 "nbformat": 4,
 "nbformat_minor": 4
}
